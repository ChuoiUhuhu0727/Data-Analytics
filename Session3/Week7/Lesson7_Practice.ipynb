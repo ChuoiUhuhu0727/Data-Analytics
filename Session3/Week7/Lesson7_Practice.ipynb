{
  "nbformat": 4,
  "nbformat_minor": 0,
  "metadata": {
    "colab": {
      "provenance": []
    },
    "kernelspec": {
      "name": "python3",
      "display_name": "Python 3"
    },
    "language_info": {
      "name": "python"
    }
  },
  "cells": [
    {
      "cell_type": "code",
      "source": [
        "# set up Git in Colab\n",
        "!git config --global user.email \"gianghoangnguyenngoc@gmail.com\"\n",
        "!git config --global user.name \"ChuoiUhuhu0727\"\n",
        "\n",
        "# clone repo\n",
        "!git clone https://github.com/ChuoiUhuhu0727/Data-Analytics"
      ],
      "metadata": {
        "colab": {
          "base_uri": "https://localhost:8080/"
        },
        "id": "JkQ4m3iXiVrG",
        "outputId": "de1681ae-236c-4e94-d0fb-4e27e32075aa"
      },
      "execution_count": 36,
      "outputs": [
        {
          "output_type": "stream",
          "name": "stdout",
          "text": [
            "Cloning into 'Data-Analytics'...\n",
            "remote: Enumerating objects: 8, done.\u001b[K\n",
            "remote: Counting objects: 100% (8/8), done.\u001b[K\n",
            "remote: Compressing objects: 100% (5/5), done.\u001b[K\n",
            "remote: Total 8 (delta 0), reused 5 (delta 0), pack-reused 0 (from 0)\u001b[K\n",
            "Receiving objects: 100% (8/8), done.\n"
          ]
        }
      ]
    },
    {
      "cell_type": "code",
      "source": [
        "# move colab file to target path\n",
        "import os\n",
        "target_dir = '/content/yourrepo/Data-Analytics/Session3/Week7'\n",
        "os.makedirs(target_dir, exist_ok=True)\n",
        "!mv /content/Lesson7_Practice.ipynb {target_dir}/"
      ],
      "metadata": {
        "colab": {
          "base_uri": "https://localhost:8080/"
        },
        "id": "DN-knHMTjRrP",
        "outputId": "7c03c019-73b6-4425-f7cc-22c151bc24bc"
      },
      "execution_count": 37,
      "outputs": [
        {
          "output_type": "stream",
          "name": "stdout",
          "text": [
            "mv: cannot stat '/content/Lesson7_Practice.ipynb': No such file or directory\n"
          ]
        }
      ]
    },
    {
      "cell_type": "code",
      "source": [
        "import os\n",
        "print(os.listdir('/content'))"
      ],
      "metadata": {
        "colab": {
          "base_uri": "https://localhost:8080/"
        },
        "id": "3mAQ2BccksDX",
        "outputId": "b7e6c693-2435-4952-8303-24611f43109a"
      },
      "execution_count": 38,
      "outputs": [
        {
          "output_type": "stream",
          "name": "stdout",
          "text": [
            "['.config', 'yourrepo', 'Data-Analytics', 'sample_data']\n"
          ]
        }
      ]
    },
    {
      "cell_type": "markdown",
      "source": [
        "# Pseudo code example\n",
        "Initialize K centroids randomly\n",
        "\n",
        "Repeat:\n",
        "  * Assign each data points to the nearest centroids\n",
        "  * Update the centroids as the mean of the points assigned to it\n",
        "\n",
        "Until centroids do not change"
      ],
      "metadata": {
        "id": "V2CA1Ea3Blcy"
      }
    },
    {
      "cell_type": "code",
      "execution_count": null,
      "metadata": {
        "colab": {
          "base_uri": "https://localhost:8080/"
        },
        "id": "FH8WQpBxzFGs",
        "outputId": "559387ef-c0ce-4a3e-85d6-d545855f02b8"
      },
      "outputs": [
        {
          "output_type": "stream",
          "name": "stdout",
          "text": [
            "[1 1 1 0 0 0]\n",
            "[[10.  2.]\n",
            " [ 1.  2.]]\n"
          ]
        }
      ],
      "source": [
        "from sklearn.cluster import KMeans\n",
        "import numpy as np\n",
        "\n",
        "# Sample data\n",
        "x = np.array([[1,2], [1,4], [1,0],\n",
        "             [10,2], [10,4], [10,0]])\n",
        "\n",
        "# Create KMeans instance with 2 clusters\n",
        "kmeans = KMeans(n_clusters=2, random_state=0).fit(x)\n",
        "\n",
        "# Predict cluster for each data point\n",
        "print(kmeans.labels_)\n",
        "\n",
        "# Get cluster centroids\n",
        "print(kmeans.cluster_centers_)"
      ]
    },
    {
      "cell_type": "code",
      "source": [
        "# suggested coding structure\n",
        "\n",
        "# suggested functions\n",
        "initialize_centroids()\n",
        "update_centroids()\n",
        "visualize_clusters()"
      ],
      "metadata": {
        "id": "ANXINgwXFEOF"
      },
      "execution_count": null,
      "outputs": []
    },
    {
      "cell_type": "code",
      "source": [
        "# 1. import libraries\n",
        "import numpy as np\n",
        "import matplotlib.pyplot as plt\n",
        "\n",
        "# 2. preprocess data\n",
        "x = ...\n",
        "\n",
        "# 3. initialize centroids\n",
        "k = 3\n",
        "centroids = initialize_centroids(x, k)\n",
        "\n",
        "# 4. refine centroids\n",
        "for loops in range(max_iters):\n",
        "  # divide data into clusters\n",
        "  clusters = assign_clusters(x, centroids)\n",
        "  new_centroids = update_clusters(x, clusters, k)\n",
        "  if np.all(centroids == new_centroids):\n",
        "    break\n",
        "  centroids = new_centroids\n",
        "\n",
        "# 5. visualize new clustes\n",
        "visualize_clusters(x, clusters, centroids)"
      ],
      "metadata": {
        "colab": {
          "base_uri": "https://localhost:8080/",
          "height": 222
        },
        "id": "jTo61R0hIdq1",
        "outputId": "601079c3-5a76-427e-fdd0-06926d5991e6"
      },
      "execution_count": 1,
      "outputs": [
        {
          "output_type": "error",
          "ename": "NameError",
          "evalue": "name 'initialize_centroids' is not defined",
          "traceback": [
            "\u001b[0;31m---------------------------------------------------------------------------\u001b[0m",
            "\u001b[0;31mNameError\u001b[0m                                 Traceback (most recent call last)",
            "\u001b[0;32m/tmp/ipython-input-3928339404.py\u001b[0m in \u001b[0;36m<cell line: 0>\u001b[0;34m()\u001b[0m\n\u001b[1;32m      8\u001b[0m \u001b[0;31m# 3. initialize centroids\u001b[0m\u001b[0;34m\u001b[0m\u001b[0;34m\u001b[0m\u001b[0m\n\u001b[1;32m      9\u001b[0m \u001b[0mk\u001b[0m \u001b[0;34m=\u001b[0m \u001b[0;36m3\u001b[0m\u001b[0;34m\u001b[0m\u001b[0;34m\u001b[0m\u001b[0m\n\u001b[0;32m---> 10\u001b[0;31m \u001b[0mcentroids\u001b[0m \u001b[0;34m=\u001b[0m \u001b[0minitialize_centroids\u001b[0m\u001b[0;34m(\u001b[0m\u001b[0mx\u001b[0m\u001b[0;34m,\u001b[0m \u001b[0mk\u001b[0m\u001b[0;34m)\u001b[0m\u001b[0;34m\u001b[0m\u001b[0;34m\u001b[0m\u001b[0m\n\u001b[0m\u001b[1;32m     11\u001b[0m \u001b[0;34m\u001b[0m\u001b[0m\n\u001b[1;32m     12\u001b[0m \u001b[0;31m# 4. refine centroids\u001b[0m\u001b[0;34m\u001b[0m\u001b[0;34m\u001b[0m\u001b[0m\n",
            "\u001b[0;31mNameError\u001b[0m: name 'initialize_centroids' is not defined"
          ]
        }
      ]
    },
    {
      "cell_type": "markdown",
      "source": [
        "**Exercise 1:** Basic K-means on Synthetic Data\n",
        "Task:\n",
        "Generate a simple 2D dataset with three clusters using numpy. Apply k-means clustering (using scikit-learn or your own implementation) and plot the results with cluster assignments and centroids.\n",
        "\n",
        "Steps:\n",
        "\n",
        "1. Generate 3 groups of 2D points centered at (1,1), (5,5), and (9,1).\n",
        "2. Run k-means with k=3.\n",
        "3. Visualize the data points, colored by their cluster, and show the centroids."
      ],
      "metadata": {
        "id": "jDc0RpqQRP4z"
      }
    },
    {
      "cell_type": "code",
      "source": [
        "import numpy as np\n",
        "import matplotlib.pyplot as plt"
      ],
      "metadata": {
        "id": "rhT6U0zRIRIz"
      },
      "execution_count": 2,
      "outputs": []
    },
    {
      "cell_type": "code",
      "source": [
        "# 3 groups of 2D centered groups\n",
        "cluster1 = np.random.randn(50, 2) + np.array([1, 1])\n",
        "\n",
        "cluster2 = np.random.randn(50, 2) + np.array([5, 5])\n",
        "\n",
        "cluster3 = np.random.randn(50, 2) + np.array([9, 1])"
      ],
      "metadata": {
        "id": "f1IVIikqL16W"
      },
      "execution_count": 21,
      "outputs": []
    },
    {
      "cell_type": "code",
      "source": [
        "cluster1.shape"
      ],
      "metadata": {
        "id": "08CqCSyjNiX9",
        "colab": {
          "base_uri": "https://localhost:8080/"
        },
        "outputId": "d8a2302e-fab8-4a46-fda7-9a6abc539d01"
      },
      "execution_count": 5,
      "outputs": [
        {
          "output_type": "execute_result",
          "data": {
            "text/plain": [
              "(50, 2)"
            ]
          },
          "metadata": {},
          "execution_count": 5
        }
      ]
    },
    {
      "cell_type": "code",
      "source": [
        "# way 1: use scikit-learn\n",
        "from sklearn.cluster import KMeans\n",
        "\n",
        "# create and fit models\n",
        "kmeans = KMeans(n_clusters=3).fit(cluster1)\n",
        "\n",
        "# label data\n",
        "labels = kmeans.labels_\n",
        "\n",
        "# get the centroids\n",
        "centroids = kmeans.cluster_centers_"
      ],
      "metadata": {
        "id": "ZqPRDpFcI3HG"
      },
      "execution_count": 22,
      "outputs": []
    },
    {
      "cell_type": "code",
      "source": [
        "cluster1[labels].mean(axis=0)"
      ],
      "metadata": {
        "colab": {
          "base_uri": "https://localhost:8080/"
        },
        "id": "ElxC-Q0Ld8I0",
        "outputId": "d4b4acd2-bd7c-43f2-96b9-31db165f1780"
      },
      "execution_count": 14,
      "outputs": [
        {
          "output_type": "execute_result",
          "data": {
            "text/plain": [
              "array([0.4403834, 1.9142559])"
            ]
          },
          "metadata": {},
          "execution_count": 14
        }
      ]
    },
    {
      "cell_type": "code",
      "source": [
        "cluster1[labels]"
      ],
      "metadata": {
        "colab": {
          "base_uri": "https://localhost:8080/"
        },
        "id": "3A9RzBmBeKSW",
        "outputId": "419bf100-18e5-4d3d-e293-f821b70cfc6f"
      },
      "execution_count": 15,
      "outputs": [
        {
          "output_type": "execute_result",
          "data": {
            "text/plain": [
              "array([[ 0.42254665,  2.81638722],\n",
              "       [ 0.42254665,  2.81638722],\n",
              "       [ 1.42632582,  1.96701334],\n",
              "       [-0.36438946,  1.01827845],\n",
              "       [-0.36438946,  1.01827845],\n",
              "       [ 0.42254665,  2.81638722],\n",
              "       [-0.36438946,  1.01827845],\n",
              "       [-0.36438946,  1.01827845],\n",
              "       [ 1.42632582,  1.96701334],\n",
              "       [ 1.42632582,  1.96701334],\n",
              "       [ 0.42254665,  2.81638722],\n",
              "       [ 0.42254665,  2.81638722],\n",
              "       [-0.36438946,  1.01827845],\n",
              "       [ 1.42632582,  1.96701334],\n",
              "       [-0.36438946,  1.01827845],\n",
              "       [ 1.42632582,  1.96701334],\n",
              "       [ 1.42632582,  1.96701334],\n",
              "       [-0.36438946,  1.01827845],\n",
              "       [ 1.42632582,  1.96701334],\n",
              "       [-0.36438946,  1.01827845],\n",
              "       [ 1.42632582,  1.96701334],\n",
              "       [ 0.42254665,  2.81638722],\n",
              "       [ 1.42632582,  1.96701334],\n",
              "       [ 0.42254665,  2.81638722],\n",
              "       [ 0.42254665,  2.81638722],\n",
              "       [-0.36438946,  1.01827845],\n",
              "       [-0.36438946,  1.01827845],\n",
              "       [-0.36438946,  1.01827845],\n",
              "       [-0.36438946,  1.01827845],\n",
              "       [ 1.42632582,  1.96701334],\n",
              "       [ 0.42254665,  2.81638722],\n",
              "       [ 0.42254665,  2.81638722],\n",
              "       [-0.36438946,  1.01827845],\n",
              "       [-0.36438946,  1.01827845],\n",
              "       [ 0.42254665,  2.81638722],\n",
              "       [ 0.42254665,  2.81638722],\n",
              "       [ 1.42632582,  1.96701334],\n",
              "       [-0.36438946,  1.01827845],\n",
              "       [ 0.42254665,  2.81638722],\n",
              "       [ 1.42632582,  1.96701334],\n",
              "       [ 0.42254665,  2.81638722],\n",
              "       [ 0.42254665,  2.81638722],\n",
              "       [ 0.42254665,  2.81638722],\n",
              "       [ 1.42632582,  1.96701334],\n",
              "       [-0.36438946,  1.01827845],\n",
              "       [-0.36438946,  1.01827845],\n",
              "       [ 0.42254665,  2.81638722],\n",
              "       [ 1.42632582,  1.96701334],\n",
              "       [-0.36438946,  1.01827845],\n",
              "       [ 1.42632582,  1.96701334]])"
            ]
          },
          "metadata": {},
          "execution_count": 15
        }
      ]
    },
    {
      "cell_type": "code",
      "source": [
        "# assign each point to the nearest centroid\n",
        "\n",
        "# calculate distance to each centroid\n",
        "distances = np.linalg.norm(cluster1[:, np.newaxis] - centroids, axis=2) # shape: (n_samples, k)\n",
        "\n",
        "# each point gets the index of its nearest centroid\n",
        "labels = np.argmin(distances, axis=1)"
      ],
      "metadata": {
        "id": "If-tyt5MY3PE"
      },
      "execution_count": 25,
      "outputs": []
    },
    {
      "cell_type": "code",
      "source": [
        "# update centroid to be the mean\n",
        "# of the points assigned to it\n",
        "new_centroids = np.array([cluster1[labels == i].mean(axis=0) for i in range(k)])\n",
        "\n",
        "new_centroids"
      ],
      "metadata": {
        "colab": {
          "base_uri": "https://localhost:8080/"
        },
        "id": "JGxR9uYdY3G5",
        "outputId": "389300c9-9a89-4642-b66f-2a6636a9d80a"
      },
      "execution_count": 26,
      "outputs": [
        {
          "output_type": "execute_result",
          "data": {
            "text/plain": [
              "array([[-1.70726645, -0.32899838],\n",
              "       [ 1.36850017,  2.10061687],\n",
              "       [ 0.66867082,  0.26782138]])"
            ]
          },
          "metadata": {},
          "execution_count": 26
        }
      ]
    },
    {
      "cell_type": "code",
      "source": [
        "# repeat till centroids\n",
        "# stop changing\n",
        "if np.allclose(centroids, new_centroids):\n",
        "  break\n",
        "centroids = new_centroids"
      ],
      "metadata": {
        "colab": {
          "base_uri": "https://localhost:8080/",
          "height": 111
        },
        "id": "8ZZOaYSyY3Et",
        "outputId": "74612b21-baa7-4ffa-9ed8-5dbb5a11bfda"
      },
      "execution_count": 27,
      "outputs": [
        {
          "output_type": "error",
          "ename": "SyntaxError",
          "evalue": "'break' outside loop (ipython-input-4255267724.py, line 4)",
          "traceback": [
            "\u001b[0;36m  File \u001b[0;32m\"/tmp/ipython-input-4255267724.py\"\u001b[0;36m, line \u001b[0;32m4\u001b[0m\n\u001b[0;31m    break\u001b[0m\n\u001b[0m    ^\u001b[0m\n\u001b[0;31mSyntaxError\u001b[0m\u001b[0;31m:\u001b[0m 'break' outside loop\n"
          ]
        }
      ]
    },
    {
      "cell_type": "code",
      "source": [
        "# visualize results\n",
        "plt.scatter(cluster1[:, 0], cluster1[:, 1], c=labels)\n",
        "plt.scatter(centroids[:, 0], centroids[:, 1], c='red', marker='x', s=100)"
      ],
      "metadata": {
        "colab": {
          "base_uri": "https://localhost:8080/",
          "height": 448
        },
        "id": "P3N3W9J5Y3CU",
        "outputId": "2d340373-d45b-4b28-d466-cd5ceed249ea"
      },
      "execution_count": 31,
      "outputs": [
        {
          "output_type": "execute_result",
          "data": {
            "text/plain": [
              "<matplotlib.collections.PathCollection at 0x7cf9e237d290>"
            ]
          },
          "metadata": {},
          "execution_count": 31
        },
        {
          "output_type": "display_data",
          "data": {
            "text/plain": [
              "<Figure size 640x480 with 1 Axes>"
            ],
            "image/png": "[encoded data removed]"
          },
          "metadata": {}
        }
      ]
    },
    {
      "cell_type": "markdown",
      "source": [
        "**Revised version**"
      ],
      "metadata": {
        "id": "-lTj9sYjkYpS"
      }
    },
    {
      "cell_type": "code",
      "source": [
        "import numpy as np\n",
        "import matplotlib.pyplot as plt\n",
        "from sklearn.cluster import KMeans\n",
        "# 3 groups of 2D centered groups\n",
        "cluster1 = np.random.randn(50, 2) + np.array([1, 1])\n",
        "cluster2 = np.random.randn(50, 2) + np.array([5, 5])\n",
        "cluster3 = np.random.randn(50, 2) + np.array([9, 1])\n",
        "\n",
        "# stack all clusters into 1 dataset\n",
        "x = np.vstack([cluster1, cluster2, cluster3])"
      ],
      "metadata": {
        "id": "DTfUpbdVY2_e"
      },
      "execution_count": 2,
      "outputs": []
    },
    {
      "cell_type": "code",
      "source": [
        "# Way 1: use scikit-learn\n",
        "# 2. Run k-means with k=3.\n",
        "kmeans = KMeans(n_clusters=3, random_state=42).fit(x)\n",
        "labels = kmeans.labels_\n",
        "centroids = kmeans.cluster_centers_\n",
        "\n",
        "# 3. Visualize the data points,\n",
        "# colored by their cluster,\n",
        "# and show the centroids\n",
        "plt.scatter(x[:, 0], x[:, 1], c=labels)\n",
        "plt.scatter(centroids[:, 0], centroids[:, 1], c='red', marker='x', s=100)\n",
        "plt.title(\"KMeans via scikit-learn\")"
      ],
      "metadata": {
        "colab": {
          "base_uri": "https://localhost:8080/",
          "height": 470
        },
        "id": "XoiH69_XkgOp",
        "outputId": "6587725a-8c6c-40b1-8724-89bf8abb215b"
      },
      "execution_count": 35,
      "outputs": [
        {
          "output_type": "execute_result",
          "data": {
            "text/plain": [
              "Text(0.5, 1.0, 'KMeans via scikit-learn')"
            ]
          },
          "metadata": {},
          "execution_count": 35
        },
        {
          "output_type": "display_data",
          "data": {
            "text/plain": [
              "<Figure size 640x480 with 1 Axes>"
            ],
            "image/png": "[encoded data removed]"
          },
          "metadata": {}
        }
      ]
    },
    {
      "cell_type": "code",
      "source": [
        "# way 2: code from scratch\n",
        "k = 3\n",
        "np.random.seed(42)\n",
        "indices = np.random.choice(x.shape[0], k, replace=False)\n",
        "centroids = x[indices]\n",
        "\n",
        "for iter in range(10):\n",
        "  # calculate distance\n",
        "  distance = np.linalg.norm(x[:, np.newaxis] - centroids, axis=2)\n",
        "  labels = np.argmin(distance, axis=1) # output is the index\n",
        "  # update new centroids\n",
        "  new_centroids = np.array([x[labels == i].mean(axis=0) for i in range(k)])\n",
        "  if np.allclose(centroids, new_centroids):\n",
        "    break\n",
        "  centroids = new_centroids\n",
        "\n",
        "# visualize\n",
        "plt.scatter(x[:, 0], x[:, 1], c=labels)\n",
        "plt.scatter(centroids[:, 0], centroids[:, 1], c='red', marker='x', s=200)\n",
        "plt.title(\"KMeans from scratch\")\n",
        "\n"
      ],
      "metadata": {
        "colab": {
          "base_uri": "https://localhost:8080/",
          "height": 470
        },
        "id": "CUrWXU_wkgdW",
        "outputId": "8c5240f2-ba15-4208-ecc6-8a82ea36d6f3"
      },
      "execution_count": 34,
      "outputs": [
        {
          "output_type": "execute_result",
          "data": {
            "text/plain": [
              "Text(0.5, 1.0, 'KMeans from scratch')"
            ]
          },
          "metadata": {},
          "execution_count": 34
        },
        {
          "output_type": "display_data",
          "data": {
            "text/plain": [
              "<Figure size 640x480 with 1 Axes>"
            ],
            "image/png": "[encoded data removed]"
          },
          "metadata": {}
        }
      ]
    },
    {
      "cell_type": "code",
      "source": [
        "labels"
      ],
      "metadata": {
        "colab": {
          "base_uri": "https://localhost:8080/"
        },
        "id": "lsf22QXAkgbI",
        "outputId": "31a4a0e0-a563-4382-ab28-0f7455a62d59"
      },
      "execution_count": 12,
      "outputs": [
        {
          "output_type": "execute_result",
          "data": {
            "text/plain": [
              "np.int64(0)"
            ]
          },
          "metadata": {},
          "execution_count": 12
        }
      ]
    },
    {
      "cell_type": "code",
      "source": [
        "centroids"
      ],
      "metadata": {
        "colab": {
          "base_uri": "https://localhost:8080/"
        },
        "id": "sBObe3MqkgTb",
        "outputId": "ec9a7981-4c9d-4ac8-f62c-e6b228e89dc2"
      },
      "execution_count": 30,
      "outputs": [
        {
          "output_type": "execute_result",
          "data": {
            "text/plain": [
              "array([[ 4.78101766,  5.60995424],\n",
              "       [ 1.31498624, -0.31612058],\n",
              "       [10.54003859,  0.86878447]])"
            ]
          },
          "metadata": {},
          "execution_count": 30
        }
      ]
    },
    {
      "cell_type": "code",
      "source": [
        "distance"
      ],
      "metadata": {
        "colab": {
          "base_uri": "https://localhost:8080/"
        },
        "id": "E5LT-3WrkgQ6",
        "outputId": "14c0c789-9879-421a-d6a5-0091401daa2d"
      },
      "execution_count": 21,
      "outputs": [
        {
          "output_type": "execute_result",
          "data": {
            "text/plain": [
              "array([[ 5.59353059,  2.14415407,  9.84471167],\n",
              "       [ 5.7763636 ,  1.40136736,  9.3458298 ],\n",
              "       [ 5.90444615,  1.18474538,  8.19401669],\n",
              "       [ 7.61349574,  1.65782813, 10.8981878 ],\n",
              "       [ 6.45833826,  1.18140425,  9.9020714 ],\n",
              "       [ 6.19391885,  2.28110583, 10.49867692],\n",
              "       [ 7.82785255,  1.48172094, 10.78201129],\n",
              "       [ 8.09460657,  2.7124653 , 11.88074699],\n",
              "       [ 5.77815015,  2.21093063, 10.0840093 ],\n",
              "       [ 6.20479923,  0.87413364,  9.3544796 ],\n",
              "       [ 5.83576973,  1.03036913,  8.67704572],\n",
              "       [ 5.82944273,  1.5616588 ,  9.58342595],\n",
              "       [ 4.85959601,  2.00652309,  8.18622776],\n",
              "       [ 4.84162292,  2.31983875,  9.04410956],\n",
              "       [ 7.05276187,  1.6670561 , 10.6629748 ],\n",
              "       [ 5.62878496,  1.45497478,  9.18137883],\n",
              "       [ 6.02392435,  1.06685434,  8.28796267],\n",
              "       [ 6.92630901,  1.21383528, 10.2627062 ],\n",
              "       [ 6.86525575,  0.        ,  9.30083818],\n",
              "       [ 5.94358257,  1.65235311,  9.7926607 ],\n",
              "       [ 6.03849093,  3.44508164, 11.15090293],\n",
              "       [ 6.08016497,  2.06106083, 10.24486407],\n",
              "       [ 5.01669917,  1.8535922 ,  8.19795536],\n",
              "       [ 5.84168995,  1.23416208,  8.16407116],\n",
              "       [ 6.48747875,  1.76790065, 10.36305132],\n",
              "       [ 6.17281633,  1.73082781, 10.07688887],\n",
              "       [ 6.10643531,  2.85736189, 10.8242043 ],\n",
              "       [ 6.65777902,  1.26983848, 10.12700913],\n",
              "       [ 5.14909404,  3.09175725, 10.15508191],\n",
              "       [ 5.52176684,  1.34538786,  8.60190319],\n",
              "       [ 6.14413424,  2.48262595, 10.59962437],\n",
              "       [ 6.00891878,  2.35595723, 10.39917325],\n",
              "       [ 6.2615529 ,  0.63889667,  9.10827273],\n",
              "       [ 4.48838959,  2.38563951,  7.91997268],\n",
              "       [ 5.31082954,  2.28374754,  9.65465891],\n",
              "       [ 6.50217771,  1.30381369, 10.03269967],\n",
              "       [ 4.12197133,  2.74363308,  7.89730411],\n",
              "       [ 6.24994757,  2.86594348, 10.93969795],\n",
              "       [ 5.41011478,  1.45656639,  8.44099096],\n",
              "       [ 8.05554229,  1.83736269, 11.13626309],\n",
              "       [ 5.74533338,  1.1663499 ,  8.91313332],\n",
              "       [ 6.02144041,  1.76479188,  9.96353587],\n",
              "       [ 6.34418556,  0.58649268,  9.20221546],\n",
              "       [ 3.83772065,  3.06848645,  8.17413497],\n",
              "       [ 5.72759447,  2.92762566, 10.56289429],\n",
              "       [ 5.37958136,  1.48569298,  8.48126123],\n",
              "       [ 7.01002823,  2.70056649, 11.34896058],\n",
              "       [ 6.19559959,  1.86645196, 10.19951141],\n",
              "       [ 7.92479652,  1.05981179,  9.96423026],\n",
              "       [ 6.7444301 ,  0.8322459 ,  8.55949803],\n",
              "       [ 1.17871005,  5.87678607,  6.77356187],\n",
              "       [ 0.54625051,  6.61044514,  6.95125557],\n",
              "       [ 1.08132849,  6.59946182,  8.43124335],\n",
              "       [ 0.40290646,  6.48343155,  7.28412589],\n",
              "       [ 1.74453349,  7.80124131,  6.12650835],\n",
              "       [ 0.35241351,  6.67639515,  7.14041132],\n",
              "       [ 0.711724  ,  6.28730395,  7.78485539],\n",
              "       [ 0.56815215,  7.34847353,  7.24877761],\n",
              "       [ 3.39396969,  4.34305177,  5.85418324],\n",
              "       [ 1.0266018 ,  7.09480062,  8.48614197],\n",
              "       [ 1.30511697,  6.86355985,  6.15758253],\n",
              "       [ 0.8998831 ,  7.64547981,  8.07685283],\n",
              "       [ 1.07508159,  6.66288771,  6.39170767],\n",
              "       [ 0.61436618,  6.75043679,  6.84695641],\n",
              "       [ 1.21330632,  6.24128972,  6.39402375],\n",
              "       [ 0.89516641,  6.09381284,  7.80256995],\n",
              "       [ 1.10827917,  7.89206755,  7.25899152],\n",
              "       [ 0.85548517,  6.04569811,  7.60357461],\n",
              "       [ 0.96624667,  7.00026409,  6.52255876],\n",
              "       [ 0.37794171,  6.99438496,  7.83270737],\n",
              "       [ 1.27309811,  6.03277269,  6.47072642],\n",
              "       [ 2.25519423,  6.79033802,  5.20682808],\n",
              "       [ 1.25531587,  6.81936883,  6.20498322],\n",
              "       [ 0.        ,  6.86525575,  7.45955849],\n",
              "       [ 1.34186163,  7.16039906,  8.80082896],\n",
              "       [ 1.46127287,  5.46402523,  6.99892487],\n",
              "       [ 2.36205068,  8.12171067,  5.63524807],\n",
              "       [ 1.86360561,  5.07765947,  6.94021901],\n",
              "       [ 0.52672449,  7.08877196,  7.01985634],\n",
              "       [ 1.75785612,  5.12853394,  7.15173136],\n",
              "       [ 1.0665229 ,  7.51032023,  6.71750103],\n",
              "       [ 3.70117947,  3.60663641,  6.53035702],\n",
              "       [ 1.91914585,  7.54298205,  5.73347695],\n",
              "       [ 1.03180767,  7.33710871,  8.46321639],\n",
              "       [ 1.26109382,  7.6593862 ,  6.61400103],\n",
              "       [ 1.4175238 ,  8.27862641,  7.6972943 ],\n",
              "       [ 1.4112126 ,  5.97802039,  6.34801294],\n",
              "       [ 0.18937498,  7.01366781,  7.36743   ],\n",
              "       [ 1.67128862,  7.94839411,  6.37401067],\n",
              "       [ 0.69280486,  6.53000319,  6.82394862],\n",
              "       [ 1.26861208,  5.60182066,  7.26184518],\n",
              "       [ 0.64555213,  6.46980649,  7.89749246],\n",
              "       [ 1.70240722,  5.8144377 ,  6.13914224],\n",
              "       [ 1.02695932,  6.71216811,  6.43507767],\n",
              "       [ 1.34205849,  6.41876746,  6.17801837],\n",
              "       [ 0.51303123,  7.37745099,  7.52827901],\n",
              "       [ 2.27014442,  4.98065324,  6.34586164],\n",
              "       [ 2.40610048,  6.30888123,  5.16167922],\n",
              "       [ 2.40525516,  4.53579893,  6.97747947],\n",
              "       [ 1.39547826,  5.96166648,  6.38038401],\n",
              "       [ 6.51416362,  8.08733234,  1.23470168],\n",
              "       [ 7.1645078 ,  8.94300891,  0.36541584],\n",
              "       [ 7.41840084,  8.04216734,  1.61429252],\n",
              "       [ 6.17442633,  7.67281077,  1.66835533],\n",
              "       [ 5.77802181,  8.94732519,  1.96057545],\n",
              "       [ 6.50915296,  9.4425958 ,  1.44180522],\n",
              "       [ 6.75172741,  6.54028055,  2.97064965],\n",
              "       [ 7.20481832,  8.65982223,  0.67995058],\n",
              "       [ 6.11774438,  7.84247726,  1.56217066],\n",
              "       [ 5.59156443,  6.04075683,  3.26598268],\n",
              "       [ 5.71272315,  7.60422537,  1.92502577],\n",
              "       [ 5.91465816,  8.29623677,  1.54523155],\n",
              "       [ 7.46267124,  8.749673  ,  0.74356051],\n",
              "       [ 6.44825449,  7.8339431 ,  1.47213039],\n",
              "       [ 6.71163643,  7.90064364,  1.41081908],\n",
              "       [ 7.48045139,  7.84159512,  1.91793821],\n",
              "       [ 6.19634913,  7.43343447,  1.87532133],\n",
              "       [ 6.74338617,  9.68124619,  1.41116322],\n",
              "       [ 7.45955849,  9.30083818,  0.        ],\n",
              "       [ 6.92038358,  8.45116972,  0.84989853],\n",
              "       [ 7.22731832,  8.47241655,  0.92585844],\n",
              "       [ 6.84804551,  8.61008997,  0.72176284],\n",
              "       [ 5.48253974,  7.62329069,  2.07132299],\n",
              "       [ 8.57100246,  8.35616588,  2.539197  ],\n",
              "       [ 4.86897523,  7.96030127,  2.60637048],\n",
              "       [ 6.35606507,  6.71264581,  2.63160747],\n",
              "       [ 8.09456296,  8.30136676,  2.0021041 ],\n",
              "       [ 6.70368003,  6.86081974,  2.5843716 ],\n",
              "       [ 7.32588981,  8.24093774,  1.28820542],\n",
              "       [ 5.62395758,  7.81985005,  1.89159294],\n",
              "       [ 5.01325035,  6.61376774,  2.9408396 ],\n",
              "       [ 6.17935632,  7.46128747,  1.85181445],\n",
              "       [ 6.04740342,  9.69466704,  2.36660852],\n",
              "       [ 7.50485447,  9.83184347,  0.70155385],\n",
              "       [ 6.14811725,  8.72447177,  1.36316349],\n",
              "       [ 6.51836022,  8.08534635,  1.2353771 ],\n",
              "       [ 6.68456219,  9.06712697,  0.86597733],\n",
              "       [ 6.94956888,  8.19301869,  1.13921604],\n",
              "       [ 6.03408299,  7.48879327,  1.85983001],\n",
              "       [ 4.09176602,  6.46386732,  3.627565  ],\n",
              "       [ 6.3927823 ,  8.74627896,  1.08430674],\n",
              "       [ 5.50364206,  5.31206095,  3.98927362],\n",
              "       [ 6.14589306,  9.51878516,  2.02030492],\n",
              "       [ 6.65257646,  6.34434516,  3.14326347],\n",
              "       [ 7.30275232,  9.75171895,  0.79754083],\n",
              "       [ 5.26740318,  8.53243518,  2.34036237],\n",
              "       [ 6.05725807,  7.99836329,  1.50530636],\n",
              "       [ 6.84559503,  7.85295337,  1.49820903],\n",
              "       [ 7.20475296,  8.14879437,  1.3184355 ],\n",
              "       [ 7.42893035,  8.52602293,  1.00592881]])"
            ]
          },
          "metadata": {},
          "execution_count": 21
        }
      ]
    },
    {
      "cell_type": "code",
      "source": [
        "new_centroids"
      ],
      "metadata": {
        "colab": {
          "base_uri": "https://localhost:8080/"
        },
        "id": "SWwuqK_cY1yx",
        "outputId": "be569a9f-e5f1-4c83-be58-311fa23ec775"
      },
      "execution_count": 31,
      "outputs": [
        {
          "output_type": "execute_result",
          "data": {
            "text/plain": [
              "array(<generator object <genexpr> at 0x7a1223f3fd80>, dtype=object)"
            ]
          },
          "metadata": {},
          "execution_count": 31
        }
      ]
    }
  ]
}